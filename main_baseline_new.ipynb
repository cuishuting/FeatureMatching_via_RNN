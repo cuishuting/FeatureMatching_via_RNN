{
 "cells": [
  {
   "cell_type": "markdown",
   "metadata": {},
   "source": [
    "# main_baseline_new\n",
    "a unit test, which pull the first observation for each person for each non-missing temporal feature\n",
    "and concatenate these to the static features and the corresponding mask matrix. To check whether the \n",
    "predictor is useful."
   ]
  },
  {
   "cell_type": "code",
   "execution_count": 71,
   "metadata": {},
   "outputs": [],
   "source": [
    "import numpy as np\n",
    "from sklearn.model_selection import train_test_split\n",
    "from sklearn.linear_model import LogisticRegression\n",
    "from sklearn.metrics import average_precision_score, roc_auc_score\n",
    "import pandas as pd\n",
    "pd.set_option('display.max_columns', None)"
   ]
  },
  {
   "cell_type": "code",
   "execution_count": 29,
   "metadata": {},
   "outputs": [],
   "source": [
    "org_data = np.load(\"./MIMIC_timeseries/24hours/series/imputed-normed-ep_1_24.npz\", allow_pickle=True)\n",
    "temporal_feature_dim = 12\n",
    "static_feature_dim = 5\n",
    "targets_dim = 21\n",
    "adm_num = len(org_data['ep_tdata'])\n",
    "temporal_feature = np.zeros((adm_num, temporal_feature_dim))\n",
    "temporal_mask = np.zeros((adm_num, temporal_feature_dim))\n",
    "static_feature = np.zeros((adm_num, static_feature_dim))\n",
    "targets = np.zeros((adm_num, targets_dim))\n"
   ]
  },
  {
   "cell_type": "code",
   "execution_count": 30,
   "metadata": {},
   "outputs": [],
   "source": [
    "for i in range(adm_num):\n",
    "    for j in range(temporal_feature_dim):\n",
    "        temp_f = org_data[\"ep_tdata\"][i][:, j]\n",
    "        temp_m = org_data[\"ep_tdata_masking\"][i][:, j]\n",
    "        if any(temp_m):\n",
    "            temporal_feature[i, j] = temp_f[temp_m == True][0]\n",
    "            temporal_mask[i, j] = 1\n",
    "        else:\n",
    "            temporal_feature[i, j] = 0\n",
    "            temporal_mask[i, j] = 0\n",
    "        "
   ]
  },
  {
   "cell_type": "code",
   "execution_count": 40,
   "metadata": {},
   "outputs": [],
   "source": [
    "static_feature = org_data[\"adm_features_all\"]\n",
    "y_icd9 = org_data[\"y_icd9\"]\n",
    "y_mor = org_data[\"y_mor\"]\n",
    "targets = np.concatenate((y_icd9, y_mor), 1)\n",
    "predictors = np.concatenate((static_feature, temporal_feature, temporal_mask), 1)\n",
    "X_train, X_test, y_train, y_test = train_test_split(predictors, targets, test_size=0.33, random_state=42)"
   ]
  },
  {
   "cell_type": "code",
   "execution_count": 45,
   "metadata": {},
   "outputs": [
    {
     "name": "stderr",
     "output_type": "stream",
     "text": [
      "/Users/shutingcui/opt/anaconda3/lib/python3.8/site-packages/sklearn/linear_model/_logistic.py:814: ConvergenceWarning: lbfgs failed to converge (status=1):\n",
      "STOP: TOTAL NO. of ITERATIONS REACHED LIMIT.\n",
      "\n",
      "Increase the number of iterations (max_iter) or scale the data as shown in:\n",
      "    https://scikit-learn.org/stable/modules/preprocessing.html\n",
      "Please also refer to the documentation for alternative solver options:\n",
      "    https://scikit-learn.org/stable/modules/linear_model.html#logistic-regression\n",
      "  n_iter_i = _check_optimize_result(\n",
      "/Users/shutingcui/opt/anaconda3/lib/python3.8/site-packages/sklearn/linear_model/_logistic.py:814: ConvergenceWarning: lbfgs failed to converge (status=1):\n",
      "STOP: TOTAL NO. of ITERATIONS REACHED LIMIT.\n",
      "\n",
      "Increase the number of iterations (max_iter) or scale the data as shown in:\n",
      "    https://scikit-learn.org/stable/modules/preprocessing.html\n",
      "Please also refer to the documentation for alternative solver options:\n",
      "    https://scikit-learn.org/stable/modules/linear_model.html#logistic-regression\n",
      "  n_iter_i = _check_optimize_result(\n"
     ]
    }
   ],
   "source": [
    "clf_models_list = []\n",
    "for i in range(targets_dim):\n",
    "    clf_models_list.append(LogisticRegression(max_iter=1000).fit(X_train, y_train[:, i]))\n",
    "\n"
   ]
  },
  {
   "cell_type": "code",
   "execution_count": 81,
   "metadata": {},
   "outputs": [],
   "source": [
    "auprc_lists = np.zeros(targets_dim)\n",
    "auroc = np.zeros(targets_dim)\n",
    "\n",
    "for i in range(targets_dim):\n",
    "    cur_y_true = y_test[:, i]\n",
    "    cur_y_score = clf_models_list[i].predict_proba(X_test)[:,1] \n",
    "    # y_score used to compute auprc/auroc is the probability estimates of the positive class\n",
    "    # through \"clf_models_list[i].classes_\" we know the order for each target class's label is [0 1]\n",
    "    auprc_lists[i] = average_precision_score(cur_y_true, cur_y_score)\n",
    "    auroc[i] = roc_auc_score(cur_y_true, cur_y_score)"
   ]
  },
  {
   "cell_type": "code",
   "execution_count": 73,
   "metadata": {},
   "outputs": [
    {
     "data": {
      "text/plain": [
       "array([0.44669215, 0.23952274, 0.77001515, 0.47824311, 0.37871609,\n",
       "       0.32696577, 0.94060067, 0.6018682 , 0.59582595, 0.70220011,\n",
       "       0.05419829, 0.14603482, 0.23969321, 0.08384789, 0.41713585,\n",
       "       0.10544544, 0.04146463, 0.50384245, 0.5575825 , 0.36984488,\n",
       "       0.23998469])"
      ]
     },
     "execution_count": 73,
     "metadata": {},
     "output_type": "execute_result"
    }
   ],
   "source": [
    "auprc_lists"
   ]
  },
  {
   "cell_type": "code",
   "execution_count": 74,
   "metadata": {},
   "outputs": [
    {
     "data": {
      "text/plain": [
       "array([0.25238176, 0.17106159, 0.67786662, 0.36415447, 0.31753998,\n",
       "       0.28317455, 0.82332426, 0.48205172, 0.38618578, 0.38618578,\n",
       "       0.00425315, 0.10079959, 0.18747873, 0.0358115 , 0.31413746,\n",
       "       0.08225587, 0.02943178, 0.44683566, 0.46444369, 0.33370194,\n",
       "       0.10037428])"
      ]
     },
     "execution_count": 74,
     "metadata": {},
     "output_type": "execute_result"
    }
   ],
   "source": [
    "baseline_for_auprc = np.zeros(21)\n",
    "for i in range(targets_dim):\n",
    "    baseline_for_auprc[i] = np.count_nonzero(y_test[:,i]) / len(y_test[:, i])\n",
    "baseline_for_auprc"
   ]
  },
  {
   "cell_type": "code",
   "execution_count": 75,
   "metadata": {},
   "outputs": [
    {
     "data": {
      "text/html": [
       "<div>\n",
       "<style scoped>\n",
       "    .dataframe tbody tr th:only-of-type {\n",
       "        vertical-align: middle;\n",
       "    }\n",
       "\n",
       "    .dataframe tbody tr th {\n",
       "        vertical-align: top;\n",
       "    }\n",
       "\n",
       "    .dataframe thead th {\n",
       "        text-align: right;\n",
       "    }\n",
       "</style>\n",
       "<table border=\"1\" class=\"dataframe\">\n",
       "  <thead>\n",
       "    <tr style=\"text-align: right;\">\n",
       "      <th></th>\n",
       "      <th>t1</th>\n",
       "      <th>t2</th>\n",
       "      <th>t3</th>\n",
       "      <th>t4</th>\n",
       "      <th>t5</th>\n",
       "      <th>t6</th>\n",
       "      <th>t7</th>\n",
       "      <th>t8</th>\n",
       "      <th>t9</th>\n",
       "      <th>t10</th>\n",
       "      <th>t11</th>\n",
       "      <th>t12</th>\n",
       "      <th>t13</th>\n",
       "      <th>t14</th>\n",
       "      <th>t15</th>\n",
       "      <th>t16</th>\n",
       "      <th>t17</th>\n",
       "      <th>t18</th>\n",
       "      <th>t19</th>\n",
       "      <th>t20</th>\n",
       "      <th>t21</th>\n",
       "    </tr>\n",
       "  </thead>\n",
       "  <tbody>\n",
       "    <tr>\n",
       "      <th>base</th>\n",
       "      <td>0.252</td>\n",
       "      <td>0.171</td>\n",
       "      <td>0.678</td>\n",
       "      <td>0.364</td>\n",
       "      <td>0.318</td>\n",
       "      <td>0.283</td>\n",
       "      <td>0.823</td>\n",
       "      <td>0.482</td>\n",
       "      <td>0.386</td>\n",
       "      <td>0.386</td>\n",
       "      <td>0.004</td>\n",
       "      <td>0.101</td>\n",
       "      <td>0.187</td>\n",
       "      <td>0.036</td>\n",
       "      <td>0.314</td>\n",
       "      <td>0.082</td>\n",
       "      <td>0.029</td>\n",
       "      <td>0.447</td>\n",
       "      <td>0.464</td>\n",
       "      <td>0.334</td>\n",
       "      <td>0.10</td>\n",
       "    </tr>\n",
       "    <tr>\n",
       "      <th>logistic_model</th>\n",
       "      <td>0.447</td>\n",
       "      <td>0.240</td>\n",
       "      <td>0.770</td>\n",
       "      <td>0.478</td>\n",
       "      <td>0.379</td>\n",
       "      <td>0.327</td>\n",
       "      <td>0.941</td>\n",
       "      <td>0.602</td>\n",
       "      <td>0.596</td>\n",
       "      <td>0.702</td>\n",
       "      <td>0.054</td>\n",
       "      <td>0.146</td>\n",
       "      <td>0.240</td>\n",
       "      <td>0.084</td>\n",
       "      <td>0.417</td>\n",
       "      <td>0.105</td>\n",
       "      <td>0.041</td>\n",
       "      <td>0.504</td>\n",
       "      <td>0.558</td>\n",
       "      <td>0.370</td>\n",
       "      <td>0.24</td>\n",
       "    </tr>\n",
       "  </tbody>\n",
       "</table>\n",
       "</div>"
      ],
      "text/plain": [
       "                   t1     t2     t3     t4     t5     t6     t7     t8     t9  \\\n",
       "base            0.252  0.171  0.678  0.364  0.318  0.283  0.823  0.482  0.386   \n",
       "logistic_model  0.447  0.240  0.770  0.478  0.379  0.327  0.941  0.602  0.596   \n",
       "\n",
       "                  t10    t11    t12    t13    t14    t15    t16    t17    t18  \\\n",
       "base            0.386  0.004  0.101  0.187  0.036  0.314  0.082  0.029  0.447   \n",
       "logistic_model  0.702  0.054  0.146  0.240  0.084  0.417  0.105  0.041  0.504   \n",
       "\n",
       "                  t19    t20   t21  \n",
       "base            0.464  0.334  0.10  \n",
       "logistic_model  0.558  0.370  0.24  "
      ]
     },
     "execution_count": 75,
     "metadata": {},
     "output_type": "execute_result"
    }
   ],
   "source": [
    "col_names = []\n",
    "for i in range(1, 22):\n",
    "    col_names.append(\"t\"+str(i))\n",
    "auprc_compares = np.zeros((2, targets_dim))\n",
    "auprc_compares[0] = baseline_for_auprc\n",
    "auprc_compares[1] = auprc_lists\n",
    "auprc = pd.DataFrame(auprc_compares, columns=col_names, index = ['base', \"logistic_model\"])\n",
    "auprc = auprc.round(3)\n",
    "auprc"
   ]
  },
  {
   "cell_type": "code",
   "execution_count": 82,
   "metadata": {},
   "outputs": [
    {
     "data": {
      "text/html": [
       "<div>\n",
       "<style scoped>\n",
       "    .dataframe tbody tr th:only-of-type {\n",
       "        vertical-align: middle;\n",
       "    }\n",
       "\n",
       "    .dataframe tbody tr th {\n",
       "        vertical-align: top;\n",
       "    }\n",
       "\n",
       "    .dataframe thead th {\n",
       "        text-align: right;\n",
       "    }\n",
       "</style>\n",
       "<table border=\"1\" class=\"dataframe\">\n",
       "  <thead>\n",
       "    <tr style=\"text-align: right;\">\n",
       "      <th></th>\n",
       "      <th>t1</th>\n",
       "      <th>t2</th>\n",
       "      <th>t3</th>\n",
       "      <th>t4</th>\n",
       "      <th>t5</th>\n",
       "      <th>t6</th>\n",
       "      <th>t7</th>\n",
       "      <th>t8</th>\n",
       "      <th>t9</th>\n",
       "      <th>t10</th>\n",
       "      <th>t11</th>\n",
       "      <th>t12</th>\n",
       "      <th>t13</th>\n",
       "      <th>t14</th>\n",
       "      <th>t15</th>\n",
       "      <th>t16</th>\n",
       "      <th>t17</th>\n",
       "      <th>t18</th>\n",
       "      <th>t19</th>\n",
       "      <th>t20</th>\n",
       "      <th>t21</th>\n",
       "    </tr>\n",
       "  </thead>\n",
       "  <tbody>\n",
       "    <tr>\n",
       "      <th>0</th>\n",
       "      <td>0.694</td>\n",
       "      <td>0.609</td>\n",
       "      <td>0.633</td>\n",
       "      <td>0.635</td>\n",
       "      <td>0.576</td>\n",
       "      <td>0.561</td>\n",
       "      <td>0.806</td>\n",
       "      <td>0.63</td>\n",
       "      <td>0.663</td>\n",
       "      <td>0.76</td>\n",
       "      <td>0.94</td>\n",
       "      <td>0.613</td>\n",
       "      <td>0.586</td>\n",
       "      <td>0.686</td>\n",
       "      <td>0.61</td>\n",
       "      <td>0.57</td>\n",
       "      <td>0.619</td>\n",
       "      <td>0.561</td>\n",
       "      <td>0.613</td>\n",
       "      <td>0.548</td>\n",
       "      <td>0.702</td>\n",
       "    </tr>\n",
       "  </tbody>\n",
       "</table>\n",
       "</div>"
      ],
      "text/plain": [
       "      t1     t2     t3     t4     t5     t6     t7    t8     t9   t10   t11  \\\n",
       "0  0.694  0.609  0.633  0.635  0.576  0.561  0.806  0.63  0.663  0.76  0.94   \n",
       "\n",
       "     t12    t13    t14   t15   t16    t17    t18    t19    t20    t21  \n",
       "0  0.613  0.586  0.686  0.61  0.57  0.619  0.561  0.613  0.548  0.702  "
      ]
     },
     "execution_count": 82,
     "metadata": {},
     "output_type": "execute_result"
    }
   ],
   "source": [
    "auroc_df = pd.DataFrame(auroc.reshape(1, targets_dim), columns=col_names)\n",
    "auroc_df = auroc_df.round(3)\n",
    "auroc_df"
   ]
  },
  {
   "cell_type": "code",
   "execution_count": null,
   "metadata": {},
   "outputs": [],
   "source": []
  }
 ],
 "metadata": {
  "kernelspec": {
   "display_name": "Python 3",
   "language": "python",
   "name": "python3"
  },
  "language_info": {
   "codemirror_mode": {
    "name": "ipython",
    "version": 3
   },
   "file_extension": ".py",
   "mimetype": "text/x-python",
   "name": "python",
   "nbconvert_exporter": "python",
   "pygments_lexer": "ipython3",
   "version": "3.8.8"
  }
 },
 "nbformat": 4,
 "nbformat_minor": 1
}
