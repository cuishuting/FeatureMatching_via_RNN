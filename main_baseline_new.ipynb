{
 "cells": [
  {
   "cell_type": "code",
   "execution_count": 1,
   "metadata": {},
   "outputs": [],
   "source": [
    "import numpy as np\n",
    "from sklearn.model_selection import train_test_split"
   ]
  },
  {
   "cell_type": "code",
   "execution_count": 29,
   "metadata": {},
   "outputs": [],
   "source": [
    "org_data = np.load(\"./MIMIC_timeseries/24hours/series/imputed-normed-ep_1_24.npz\", allow_pickle=True)\n",
    "temporal_feature_dim = 12\n",
    "static_feature_dim = 5\n",
    "targets_dim = 21\n",
    "adm_num = len(org_data['ep_tdata'])\n",
    "temporal_feature = np.zeros((adm_num, temporal_feature_dim))\n",
    "temporal_mask = np.zeros((adm_num, temporal_feature_dim))\n",
    "static_feature = np.zeros((adm_num, static_feature_dim))\n",
    "targets = np.zeros((adm_num, targets_dim))\n"
   ]
  },
  {
   "cell_type": "code",
   "execution_count": null,
   "metadata": {},
   "outputs": [],
   "source": [
    "for i in range(adm_num):\n",
    "    for j in range(temporal_feature_dim):\n",
    "        temp_f = org_data[\"ep_tdata\"][i][:, j]\n",
    "        temp_m = org_data[\"ep_tdata_masking\"][i][:, j]\n",
    "        if any(temp_m):\n",
    "            temporal_feature[i, j] = temp_f[temp_m == True][0]\n",
    "            temporal_mask[i, j] = 1\n",
    "        else:\n",
    "            temporal_feature[i, j] = 0\n",
    "            temporal_mask[i, j] = 0\n",
    "        "
   ]
  },
  {
   "cell_type": "code",
   "execution_count": 28,
   "metadata": {},
   "outputs": [
    {
     "data": {
      "text/plain": [
       "(9, 12)"
      ]
     },
     "execution_count": 28,
     "metadata": {},
     "output_type": "execute_result"
    }
   ],
   "source": [
    "static_feature = org_data[\"adm_features_all\"]\n",
    "y_icd9 = org_data[\"y_icd9\"]\n",
    "y_mor = org_data[\"y_mor\"]\n",
    "targets = np.concatenate((y_icd9, y_mor), 1)\n",
    "predictors = np.concatenate((static_feature, temporal_feature, temporal_mask), 1)\n"
   ]
  },
  {
   "cell_type": "code",
   "execution_count": null,
   "metadata": {},
   "outputs": [],
   "source": [
    "X_train, X_test, y_train, y_test = train_test_split(predictors, targets, test_size=0.33, random_state=42)\n"
   ]
  },
  {
   "cell_type": "code",
   "execution_count": null,
   "metadata": {},
   "outputs": [],
   "source": []
  },
  {
   "cell_type": "code",
   "execution_count": 20,
   "metadata": {},
   "outputs": [
    {
     "data": {
      "text/plain": [
       "array([0, 0, 0, 0, 1, 1, 1, 1, 1, 1, 1, 1, 1, 1, 1, 1, 1, 1, 1, 1, 1, 1,\n",
       "       1, 1])"
      ]
     },
     "execution_count": 20,
     "metadata": {},
     "output_type": "execute_result"
    }
   ],
   "source": []
  },
  {
   "cell_type": "code",
   "execution_count": null,
   "metadata": {},
   "outputs": [],
   "source": []
  },
  {
   "cell_type": "code",
   "execution_count": 23,
   "metadata": {},
   "outputs": [
    {
     "data": {
      "text/plain": [
       "192.0"
      ]
     },
     "execution_count": 23,
     "metadata": {},
     "output_type": "execute_result"
    }
   ],
   "source": []
  },
  {
   "cell_type": "code",
   "execution_count": null,
   "metadata": {},
   "outputs": [],
   "source": []
  }
 ],
 "metadata": {
  "kernelspec": {
   "display_name": "Python 3",
   "language": "python",
   "name": "python3"
  },
  "language_info": {
   "codemirror_mode": {
    "name": "ipython",
    "version": 3
   },
   "file_extension": ".py",
   "mimetype": "text/x-python",
   "name": "python",
   "nbconvert_exporter": "python",
   "pygments_lexer": "ipython3",
   "version": "3.8.8"
  }
 },
 "nbformat": 4,
 "nbformat_minor": 1
}
